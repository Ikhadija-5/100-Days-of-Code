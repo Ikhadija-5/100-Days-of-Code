{
  "nbformat": 4,
  "nbformat_minor": 0,
  "metadata": {
    "colab": {
      "provenance": [],
      "authorship_tag": "ABX9TyPqy3EBb9eelFBFB4xL73Rw",
      "include_colab_link": true
    },
    "kernelspec": {
      "name": "python3",
      "display_name": "Python 3"
    },
    "language_info": {
      "name": "python"
    }
  },
  "cells": [
    {
      "cell_type": "markdown",
      "metadata": {
        "id": "view-in-github",
        "colab_type": "text"
      },
      "source": [
        "<a href=\"https://colab.research.google.com/github/Ikhadija-5/100-Days-of-Code/blob/main/Day_9_Power_X_n.ipynb\" target=\"_parent\"><img src=\"https://colab.research.google.com/assets/colab-badge.svg\" alt=\"Open In Colab\"/></a>"
      ]
    },
    {
      "cell_type": "markdown",
      "source": [
        "## Implement pow(x, n), which calculates x raised to the power n (i.e., xn)."
      ],
      "metadata": {
        "id": "sndaSRkrD8Ui"
      }
    },
    {
      "cell_type": "markdown",
      "source": [
        "Example 1:\n",
        "\n",
        "Input: x = 2.00000, n = 10 \\\\\n",
        "Output: 1024.00000\n"
      ],
      "metadata": {
        "id": "ocQ3wDcBEDrA"
      }
    },
    {
      "cell_type": "markdown",
      "source": [
        "Example 2:\n",
        "Input: x = 2.10000, n = 3 \\\\\n",
        "Output: 9.26100"
      ],
      "metadata": {
        "id": "RgQQX-TlESRX"
      }
    },
    {
      "cell_type": "markdown",
      "source": [
        "Example 3:\n",
        "\n",
        "Input: x = 2.00000, n = -2 \\\\\n",
        "Output: 0.25000 \\\\\n",
        "Explanation: 2^(-2) = 1/22 = 1/4 = 0.25\n"
      ],
      "metadata": {
        "id": "yLWNDYT4EcB4"
      }
    },
    {
      "cell_type": "code",
      "execution_count": 65,
      "metadata": {
        "id": "4uvc2GiXzioD"
      },
      "outputs": [],
      "source": [
        "class Solution(object):\n",
        "    def myPow(self, x, n):\n",
        "        \"\"\"\n",
        "        :type x: float\n",
        "        :type n: int\n",
        "        :rtype: float\n",
        "        \"\"\"\n",
        "\n",
        "\n",
        "        xpow = x ** float(n)\n",
        "\n",
        "        return xpow"
      ]
    },
    {
      "cell_type": "code",
      "source": [
        "case1 = Solution()"
      ],
      "metadata": {
        "id": "9rDfBt1-_zGl"
      },
      "execution_count": 60,
      "outputs": []
    },
    {
      "cell_type": "code",
      "source": [
        "case1.myPow(x = 2.00000, n = 10)"
      ],
      "metadata": {
        "colab": {
          "base_uri": "https://localhost:8080/"
        },
        "id": "tVfX2L7-Ar7U",
        "outputId": "32750302-d4e1-4dfc-9403-7c10d6687d74"
      },
      "execution_count": 61,
      "outputs": [
        {
          "output_type": "execute_result",
          "data": {
            "text/plain": [
              "1024.0"
            ]
          },
          "metadata": {},
          "execution_count": 61
        }
      ]
    },
    {
      "cell_type": "code",
      "source": [
        "case1.myPow(x = 2.10000, n = 3)"
      ],
      "metadata": {
        "colab": {
          "base_uri": "https://localhost:8080/"
        },
        "id": "A13BsPGeAyXl",
        "outputId": "ecb6d212-3de7-41d9-b429-38b0c87353d0"
      },
      "execution_count": 62,
      "outputs": [
        {
          "output_type": "execute_result",
          "data": {
            "text/plain": [
              "9.261000000000001"
            ]
          },
          "metadata": {},
          "execution_count": 62
        }
      ]
    },
    {
      "cell_type": "markdown",
      "source": [],
      "metadata": {
        "id": "6J9oH-fRD6Vb"
      }
    },
    {
      "cell_type": "code",
      "source": [
        "case1.myPow(x = 2.00000, n = -2)"
      ],
      "metadata": {
        "colab": {
          "base_uri": "https://localhost:8080/"
        },
        "id": "0AWWUS6iBNAJ",
        "outputId": "280154e9-981b-4f3c-a693-0513b7fb9658"
      },
      "execution_count": 63,
      "outputs": [
        {
          "output_type": "execute_result",
          "data": {
            "text/plain": [
              "0.25"
            ]
          },
          "metadata": {},
          "execution_count": 63
        }
      ]
    }
  ]
}