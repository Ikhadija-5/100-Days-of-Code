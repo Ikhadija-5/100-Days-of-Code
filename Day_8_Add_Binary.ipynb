{
  "nbformat": 4,
  "nbformat_minor": 0,
  "metadata": {
    "colab": {
      "provenance": [],
      "toc_visible": true,
      "authorship_tag": "ABX9TyN72neMGTjgihsPWkwRGXev",
      "include_colab_link": true
    },
    "kernelspec": {
      "name": "python3",
      "display_name": "Python 3"
    },
    "language_info": {
      "name": "python"
    }
  },
  "cells": [
    {
      "cell_type": "markdown",
      "metadata": {
        "id": "view-in-github",
        "colab_type": "text"
      },
      "source": [
        "<a href=\"https://colab.research.google.com/github/Ikhadija-5/100-Days-of-Code/blob/main/Day_8_Add_Binary.ipynb\" target=\"_parent\"><img src=\"https://colab.research.google.com/assets/colab-badge.svg\" alt=\"Open In Colab\"/></a>"
      ]
    },
    {
      "cell_type": "markdown",
      "source": [
        "Given two binary strings a and b, return their sum as a binary string."
      ],
      "metadata": {
        "id": "3T67U22kIN_L"
      }
    },
    {
      "cell_type": "markdown",
      "source": [
        "Example 1:\n",
        "\n",
        "Input: a = \"11\", \\\\\n",
        "b = \"1\" \\\\\n",
        "Output: \"100\"\n"
      ],
      "metadata": {
        "id": "AKMNsfrJITfw"
      }
    },
    {
      "cell_type": "code",
      "source": [
        "class Solution(object):\n",
        "    def addBinary(self, a, b):\n",
        "        \"\"\"\n",
        "        :type a: str\n",
        "        :type b: str\n",
        "        :rtype: str\n",
        "        \"\"\"\n",
        "        # Convert a and b into lists and change elements to integers\n",
        "        a_ = [int(i) for i in a]\n",
        "        b_ = [int(j) for j in b]\n",
        "\n",
        "        # Pad the lists with leading zeros if they have different lengths\n",
        "        max_len = max(len(a_), len(b_))\n",
        "        a_ = [0] * (max_len - len(a_)) + a_\n",
        "        b_ = [0] * (max_len - len(b_)) + b_\n",
        "\n",
        "        carry = 0\n",
        "        st_sum = ''\n",
        "        # Perform binary addition element-wise\n",
        "        for i in range(max_len - 1, -1, -1):\n",
        "            current_sum = a_[i] + b_[i] + carry\n",
        "            st_sum = str(current_sum % 2) + st_sum\n",
        "            carry = current_sum // 2\n",
        "\n",
        "        # Add the final carry if there is any\n",
        "        if carry > 0:\n",
        "            st_sum = str(carry) + st_sum\n",
        "\n",
        "        return st_sum"
      ],
      "metadata": {
        "id": "eUAzQL_MjSNK"
      },
      "execution_count": 29,
      "outputs": []
    },
    {
      "cell_type": "code",
      "source": [
        "case1 = Solution()"
      ],
      "metadata": {
        "id": "ofaSpA9rMz8h"
      },
      "execution_count": 30,
      "outputs": []
    },
    {
      "cell_type": "code",
      "source": [
        "case1.addBinary(\"11\", \"1\")"
      ],
      "metadata": {
        "colab": {
          "base_uri": "https://localhost:8080/",
          "height": 35
        },
        "id": "HjUbonfIM6jt",
        "outputId": "ffcfd261-a82b-4812-e7b5-90923614c547"
      },
      "execution_count": 31,
      "outputs": [
        {
          "output_type": "execute_result",
          "data": {
            "text/plain": [
              "'100'"
            ],
            "application/vnd.google.colaboratory.intrinsic+json": {
              "type": "string"
            }
          },
          "metadata": {},
          "execution_count": 31
        }
      ]
    },
    {
      "cell_type": "code",
      "source": [
        "case1.addBinary(\"1010\", \"1011\")"
      ],
      "metadata": {
        "colab": {
          "base_uri": "https://localhost:8080/",
          "height": 35
        },
        "id": "0VuwHko_qGhT",
        "outputId": "8244ae7b-c47e-4eea-c1b4-28ce12720b38"
      },
      "execution_count": 32,
      "outputs": [
        {
          "output_type": "execute_result",
          "data": {
            "text/plain": [
              "'10101'"
            ],
            "application/vnd.google.colaboratory.intrinsic+json": {
              "type": "string"
            }
          },
          "metadata": {},
          "execution_count": 32
        }
      ]
    }
  ]
}