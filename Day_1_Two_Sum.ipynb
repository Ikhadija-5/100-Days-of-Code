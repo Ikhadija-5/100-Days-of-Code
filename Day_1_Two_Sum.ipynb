{
  "nbformat": 4,
  "nbformat_minor": 0,
  "metadata": {
    "colab": {
      "provenance": [],
      "collapsed_sections": [],
      "authorship_tag": "ABX9TyMECPEYqs9X0pOWq2y8KuyA",
      "include_colab_link": true
    },
    "kernelspec": {
      "name": "python3",
      "display_name": "Python 3"
    },
    "language_info": {
      "name": "python"
    }
  },
  "cells": [
    {
      "cell_type": "markdown",
      "metadata": {
        "id": "view-in-github",
        "colab_type": "text"
      },
      "source": [
        "<a href=\"https://colab.research.google.com/github/Ikhadija-5/100-Days-of-Code/blob/main/Day_1_Two_Sum.ipynb\" target=\"_parent\"><img src=\"https://colab.research.google.com/assets/colab-badge.svg\" alt=\"Open In Colab\"/></a>"
      ]
    },
    {
      "cell_type": "markdown",
      "source": [
        "Given an array of integers nums and an integer target, return indices of the two numbers such that they add up to target.\n",
        "\n",
        "You may assume that each input would have exactly one solution, and you may not use the same element twice.\n",
        "\n",
        "You can return the answer in any order."
      ],
      "metadata": {
        "id": "5RnnmeRlDwjo"
      }
    },
    {
      "cell_type": "markdown",
      "source": [
        "#Method 1"
      ],
      "metadata": {
        "id": "rQHCBNOORTDR"
      }
    },
    {
      "cell_type": "code",
      "source": [
        "def twoSum(nums, target):\n",
        "    for i in range(len(nums)): #loop through index of nums\n",
        "      for j in range(i+1,len(nums)): #loop again but this time starting with the next element after i\n",
        "        if nums[i]+nums[j] == target: #check if the sum of the first and second element gives you target and continue to the end\n",
        "          return [i,j] #return the indices as a list\n"
      ],
      "metadata": {
        "id": "xHBodl1TIXDV"
      },
      "execution_count": 39,
      "outputs": []
    },
    {
      "cell_type": "code",
      "source": [
        "twoSum([2,7,11,15] , 9)"
      ],
      "metadata": {
        "colab": {
          "base_uri": "https://localhost:8080/"
        },
        "id": "zmZapnBJQ6MQ",
        "outputId": "7a0764c9-798d-4acc-833e-4c1249413989"
      },
      "execution_count": 41,
      "outputs": [
        {
          "output_type": "execute_result",
          "data": {
            "text/plain": [
              "[0, 1]"
            ]
          },
          "metadata": {},
          "execution_count": 41
        }
      ]
    },
    {
      "cell_type": "markdown",
      "source": [
        "#Method 2"
      ],
      "metadata": {
        "id": "FgN3IJUgRWC0"
      }
    },
    {
      "cell_type": "code",
      "source": [
        "def twosum(nums, target):\n",
        "  for i in range(len(nums)):\n",
        "    sum = nums[i] + nums[i+1]\n",
        "    if sum == target:\n",
        "      return[i,i+1]\n"
      ],
      "metadata": {
        "id": "broq3dpjRVFX"
      },
      "execution_count": 86,
      "outputs": []
    },
    {
      "cell_type": "markdown",
      "source": [],
      "metadata": {
        "id": "ug777wBEWfcA"
      }
    },
    {
      "cell_type": "code",
      "source": [
        "twosum([3,3] , 6)"
      ],
      "metadata": {
        "colab": {
          "base_uri": "https://localhost:8080/"
        },
        "id": "kj1hJuEHSEgX",
        "outputId": "57fc10f7-208d-4452-dec9-a16d30c76152"
      },
      "execution_count": 87,
      "outputs": [
        {
          "output_type": "execute_result",
          "data": {
            "text/plain": [
              "[0, 1]"
            ]
          },
          "metadata": {},
          "execution_count": 87
        }
      ]
    },
    {
      "cell_type": "code",
      "source": [],
      "metadata": {
        "id": "ibejW_ZTWhHA"
      },
      "execution_count": null,
      "outputs": []
    }
  ]
}