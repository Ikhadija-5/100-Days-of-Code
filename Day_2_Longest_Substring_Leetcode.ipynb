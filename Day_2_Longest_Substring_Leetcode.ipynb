{
  "nbformat": 4,
  "nbformat_minor": 0,
  "metadata": {
    "colab": {
      "provenance": [],
      "authorship_tag": "ABX9TyMbD+mlLykiEJDvpm5a3oNg",
      "include_colab_link": true
    },
    "kernelspec": {
      "name": "python3",
      "display_name": "Python 3"
    },
    "language_info": {
      "name": "python"
    }
  },
  "cells": [
    {
      "cell_type": "markdown",
      "metadata": {
        "id": "view-in-github",
        "colab_type": "text"
      },
      "source": [
        "<a href=\"https://colab.research.google.com/github/Ikhadija-5/100-Days-of-Code/blob/main/Day_2_Longest_Substring_Leetcode.ipynb\" target=\"_parent\"><img src=\"https://colab.research.google.com/assets/colab-badge.svg\" alt=\"Open In Colab\"/></a>"
      ]
    },
    {
      "cell_type": "markdown",
      "source": [
        "#Longest Substring Without Repeating Characters\n",
        "Given a string s, find the length of the longest\n",
        "substring without repeating characters.\n",
        "\n",
        "Example 1\n",
        "\n",
        "Input: s = \"abcabcbb\"\n",
        "\n",
        "Output: 3\n",
        "\n",
        "Explanation: The answer is \"abc\", with the length of 3."
      ],
      "metadata": {
        "id": "sVqKMYHOvela"
      }
    },
    {
      "cell_type": "code",
      "source": [
        "class Solution(object):\n",
        "    def lengthOfLongestSubstring(self, s):\n",
        "        \"\"\"\n",
        "        :type s: str\n",
        "        :rtype: int\n",
        "        \"\"\"\n",
        "\n",
        "        #find all substrings in s\n",
        "        substrings = []\n",
        "        for i in range(len(s)):\n",
        "            for j in range(i+1, len(s)+1):\n",
        "                substrings.append(s[i:j])\n",
        "\n",
        "        #find all substrings without repeating characters\n",
        "        true_subs = []\n",
        "        for sub in substrings:\n",
        "            if len(set(sub)) == len(sub):\n",
        "                true_subs.append(sub)\n",
        "\n",
        "        #find the length of longest substring\n",
        "        longest_length = 0\n",
        "        longest_subs = \"\"\n",
        "        for word in true_subs:\n",
        "            if len(word) > longest_length:\n",
        "                longest_length = len(word)\n",
        "                longest_subs = word\n",
        "\n",
        "        print(\"Substrings: \", substrings)\n",
        "        print(\"Subtstrings with no repeating characters: \", true_subs)\n",
        "\n",
        "        return longest_length, longest_subs"
      ],
      "metadata": {
        "id": "7Uc3z3wHd8Go"
      },
      "execution_count": 81,
      "outputs": []
    },
    {
      "cell_type": "code",
      "source": [
        "test = Solution()"
      ],
      "metadata": {
        "id": "YF5hVga7l9Vr"
      },
      "execution_count": 82,
      "outputs": []
    },
    {
      "cell_type": "code",
      "source": [
        "test.lengthOfLongestSubstring(\"bbbb\")"
      ],
      "metadata": {
        "colab": {
          "base_uri": "https://localhost:8080/"
        },
        "id": "3L1f6YsYmAXu",
        "outputId": "3f89229a-a34d-432f-80e7-88e219b414b3"
      },
      "execution_count": 83,
      "outputs": [
        {
          "output_type": "stream",
          "name": "stdout",
          "text": [
            "Substrings:  ['b', 'bb', 'bbb', 'bbbb', 'b', 'bb', 'bbb', 'b', 'bb', 'b']\n",
            "Subtstrings with no repeating characters:  ['b', 'b', 'b', 'b']\n"
          ]
        },
        {
          "output_type": "execute_result",
          "data": {
            "text/plain": [
              "(1, 'b')"
            ]
          },
          "metadata": {},
          "execution_count": 83
        }
      ]
    },
    {
      "cell_type": "code",
      "source": [
        "test.lengthOfLongestSubstring(\"pwwkew\")"
      ],
      "metadata": {
        "colab": {
          "base_uri": "https://localhost:8080/"
        },
        "id": "puIco0ttmUKa",
        "outputId": "17e07b6a-9d7a-4e93-df8e-ed7cb0428a5a"
      },
      "execution_count": 84,
      "outputs": [
        {
          "output_type": "stream",
          "name": "stdout",
          "text": [
            "Substrings:  ['p', 'pw', 'pww', 'pwwk', 'pwwke', 'pwwkew', 'w', 'ww', 'wwk', 'wwke', 'wwkew', 'w', 'wk', 'wke', 'wkew', 'k', 'ke', 'kew', 'e', 'ew', 'w']\n",
            "Subtstrings with no repeating characters:  ['p', 'pw', 'w', 'w', 'wk', 'wke', 'k', 'ke', 'kew', 'e', 'ew', 'w']\n"
          ]
        },
        {
          "output_type": "execute_result",
          "data": {
            "text/plain": [
              "(3, 'wke')"
            ]
          },
          "metadata": {},
          "execution_count": 84
        }
      ]
    },
    {
      "cell_type": "code",
      "source": [
        "test.lengthOfLongestSubstring(\"abcabcbb\")"
      ],
      "metadata": {
        "colab": {
          "base_uri": "https://localhost:8080/"
        },
        "id": "wQ1-MfoNnPZZ",
        "outputId": "b60d0269-f7ab-4bb8-e914-fb4e1940f689"
      },
      "execution_count": 85,
      "outputs": [
        {
          "output_type": "stream",
          "name": "stdout",
          "text": [
            "Substrings:  ['a', 'ab', 'abc', 'abca', 'abcab', 'abcabc', 'abcabcb', 'abcabcbb', 'b', 'bc', 'bca', 'bcab', 'bcabc', 'bcabcb', 'bcabcbb', 'c', 'ca', 'cab', 'cabc', 'cabcb', 'cabcbb', 'a', 'ab', 'abc', 'abcb', 'abcbb', 'b', 'bc', 'bcb', 'bcbb', 'c', 'cb', 'cbb', 'b', 'bb', 'b']\n",
            "Subtstrings with no repeating characters:  ['a', 'ab', 'abc', 'b', 'bc', 'bca', 'c', 'ca', 'cab', 'a', 'ab', 'abc', 'b', 'bc', 'c', 'cb', 'b', 'b']\n"
          ]
        },
        {
          "output_type": "execute_result",
          "data": {
            "text/plain": [
              "(3, 'abc')"
            ]
          },
          "metadata": {},
          "execution_count": 85
        }
      ]
    }
  ]
}