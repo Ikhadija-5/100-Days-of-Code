{
  "nbformat": 4,
  "nbformat_minor": 0,
  "metadata": {
    "colab": {
      "provenance": [],
      "authorship_tag": "ABX9TyOQPK7mpzphROzKKP7vDT6y",
      "include_colab_link": true
    },
    "kernelspec": {
      "name": "python3",
      "display_name": "Python 3"
    },
    "language_info": {
      "name": "python"
    }
  },
  "cells": [
    {
      "cell_type": "markdown",
      "metadata": {
        "id": "view-in-github",
        "colab_type": "text"
      },
      "source": [
        "<a href=\"https://colab.research.google.com/github/Ikhadija-5/100-Days-of-Code/blob/main/Day_3_Longest_Palindromic_Substring.ipynb\" target=\"_parent\"><img src=\"https://colab.research.google.com/assets/colab-badge.svg\" alt=\"Open In Colab\"/></a>"
      ]
    },
    {
      "cell_type": "markdown",
      "source": [
        "## Given a string s, return the longest palindromic substring in s."
      ],
      "metadata": {
        "id": "MeDtRI5quT9a"
      }
    },
    {
      "cell_type": "markdown",
      "source": [
        "Input: s = \"babad\"\n",
        "\n",
        "Output: \"bab\"\n",
        "\n",
        "Explanation: \"aba\" is also a valid answer."
      ],
      "metadata": {
        "id": "GzhkyrU6ub4q"
      }
    },
    {
      "cell_type": "markdown",
      "source": [
        "##Method 1"
      ],
      "metadata": {
        "id": "KmAqq_7Q4JV0"
      }
    },
    {
      "cell_type": "code",
      "source": [
        "class Solution(object):\n",
        "    def longestPalindrome(self, s):\n",
        "\n",
        "      #find substrings\n",
        "\n",
        "      substrings = []\n",
        "      for i in range(len(s)):\n",
        "        for j in range(1,len(s)+1):\n",
        "          substrings.append(s[i:j])\n",
        "      #print(substrings)\n",
        "\n",
        "      #Return Palindromes among substrings\n",
        "      palindromes = []\n",
        "      for sub in substrings:\n",
        "        if sub[::1] == sub[::-1]:\n",
        "          palindromes.append(sub)\n",
        "      #print(palindromes)\n",
        "\n",
        "\n",
        "\n",
        "      #Find longest Palindrome\n",
        "      len_of_longest = 0\n",
        "      longest_palindrome = \"\"\n",
        "      for pal in palindromes:\n",
        "        if len(pal) > len_of_longest:\n",
        "          len_of_longest = len(pal)\n",
        "          longest_palindrome = pal\n",
        "          \n",
        "\n",
        "      return longest_palindrome\n"
      ],
      "metadata": {
        "id": "DTTXYKr6ua1D"
      },
      "execution_count": 37,
      "outputs": []
    },
    {
      "cell_type": "code",
      "source": [
        "test = Solution()"
      ],
      "metadata": {
        "id": "8T6C-gqQ0SIo"
      },
      "execution_count": 38,
      "outputs": []
    },
    {
      "cell_type": "code",
      "source": [
        "test.longestPalindrome(\"babad\")"
      ],
      "metadata": {
        "colab": {
          "base_uri": "https://localhost:8080/",
          "height": 69
        },
        "id": "7KK9Sag10XdV",
        "outputId": "a1e35db7-5ca8-4b1b-b750-690c97804eee"
      },
      "execution_count": 39,
      "outputs": [
        {
          "output_type": "stream",
          "name": "stdout",
          "text": [
            "['b', 'ba', 'bab', 'baba', 'babad', '', 'a', 'ab', 'aba', 'abad', '', '', 'b', 'ba', 'bad', '', '', '', 'a', 'ad', '', '', '', '', 'd']\n",
            "['b', 'bab', '', 'a', 'aba', '', '', 'b', '', '', '', 'a', '', '', '', '', 'd']\n"
          ]
        },
        {
          "output_type": "execute_result",
          "data": {
            "text/plain": [
              "'bab'"
            ],
            "application/vnd.google.colaboratory.intrinsic+json": {
              "type": "string"
            }
          },
          "metadata": {},
          "execution_count": 39
        }
      ]
    },
    {
      "cell_type": "code",
      "source": [
        "test.longestPalindrome(\"cbbd\")"
      ],
      "metadata": {
        "colab": {
          "base_uri": "https://localhost:8080/",
          "height": 69
        },
        "id": "yml2fwlt0idm",
        "outputId": "01218511-5a5d-448b-aba8-52efeb8de828"
      },
      "execution_count": 40,
      "outputs": [
        {
          "output_type": "stream",
          "name": "stdout",
          "text": [
            "['c', 'cb', 'cbb', 'cbbd', '', 'b', 'bb', 'bbd', '', '', 'b', 'bd', '', '', '', 'd']\n",
            "['c', '', 'b', 'bb', '', '', 'b', '', '', '', 'd']\n"
          ]
        },
        {
          "output_type": "execute_result",
          "data": {
            "text/plain": [
              "'bb'"
            ],
            "application/vnd.google.colaboratory.intrinsic+json": {
              "type": "string"
            }
          },
          "metadata": {},
          "execution_count": 40
        }
      ]
    },
    {
      "cell_type": "code",
      "source": [],
      "metadata": {
        "id": "reG2SXgO2CUX"
      },
      "execution_count": null,
      "outputs": []
    },
    {
      "cell_type": "markdown",
      "source": [
        "##Method 2"
      ],
      "metadata": {
        "id": "-INuxQiH4NQK"
      }
    },
    {
      "cell_type": "code",
      "source": [],
      "metadata": {
        "id": "mpl_cKZt4PuF"
      },
      "execution_count": null,
      "outputs": []
    }
  ]
}