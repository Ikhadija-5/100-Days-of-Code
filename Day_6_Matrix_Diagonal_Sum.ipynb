{
  "nbformat": 4,
  "nbformat_minor": 0,
  "metadata": {
    "colab": {
      "provenance": [],
      "authorship_tag": "ABX9TyOvQvOyp2Lj70whsupVRTIT",
      "include_colab_link": true
    },
    "kernelspec": {
      "name": "python3",
      "display_name": "Python 3"
    },
    "language_info": {
      "name": "python"
    }
  },
  "cells": [
    {
      "cell_type": "markdown",
      "metadata": {
        "id": "view-in-github",
        "colab_type": "text"
      },
      "source": [
        "<a href=\"https://colab.research.google.com/github/Ikhadija-5/100-Days-of-Code/blob/main/Day_6_Matrix_Diagonal_Sum.ipynb\" target=\"_parent\"><img src=\"https://colab.research.google.com/assets/colab-badge.svg\" alt=\"Open In Colab\"/></a>"
      ]
    },
    {
      "cell_type": "markdown",
      "source": [
        "#Matrix Diagonal Sum"
      ],
      "metadata": {
        "id": "OpyVAnPzaNXd"
      }
    },
    {
      "cell_type": "markdown",
      "source": [
        "Given a square matrix mat, return the sum of the matrix diagonals.\n",
        "\n",
        "Only include the sum of all the elements on the primary diagonal and all the elements on the secondary diagonal that are not part of the primary diagonal."
      ],
      "metadata": {
        "id": "U-L8_nioaTXj"
      }
    },
    {
      "cell_type": "code",
      "source": [
        "class Solution:\n",
        "    def diagonalSum(self, mat):\n",
        "\n",
        "      #find the number of rows  and columns\n",
        "      n = len(mat[0])\n",
        "\n",
        "      #Find the elements of primary diagonals and elements of secondary dagonal\n",
        "      \n",
        "      primary = [mat[i][i] for i in range(n)]\n",
        "      secondary  = [mat[i][n - i - 1] for i in range(n)]\n",
        "\n",
        "      #if the matrix is a square matrix, the sum should be of all elements in primary and secondary\n",
        "      #else, we subtract the middle element since it is the only element in the seondary diag on the primary diag\n",
        "\n",
        "      if n % 2 == 1:\n",
        "        diagonal_sum = sum(primary+secondary) - mat[n // 2][n // 2]\n",
        "      else:\n",
        "        diagonal_sum = sum(primary+secondary)\n",
        "        \n",
        "      return diagonal_sum\n",
        "\n"
      ],
      "metadata": {
        "id": "5MHnIwA3-3U7"
      },
      "execution_count": 252,
      "outputs": []
    },
    {
      "cell_type": "code",
      "source": [
        "trial = Solution()"
      ],
      "metadata": {
        "id": "FbMaN6HJhMU2"
      },
      "execution_count": 253,
      "outputs": []
    },
    {
      "cell_type": "code",
      "source": [
        "trial.diagonalSum(mat = [[1,2,3],\n",
        "              [4,5,6],\n",
        "              [7,8,9]])"
      ],
      "metadata": {
        "colab": {
          "base_uri": "https://localhost:8080/"
        },
        "id": "JRJLjgqEhRIl",
        "outputId": "794473d9-20d1-4020-bc03-4bdfd9f5bfbd"
      },
      "execution_count": 254,
      "outputs": [
        {
          "output_type": "execute_result",
          "data": {
            "text/plain": [
              "25"
            ]
          },
          "metadata": {},
          "execution_count": 254
        }
      ]
    },
    {
      "cell_type": "code",
      "source": [
        "trial.diagonalSum(mat = [[1,1,1,1],\n",
        "              [1,1,1,1],\n",
        "              [1,1,1,1],\n",
        "              [1,1,1,1]])"
      ],
      "metadata": {
        "colab": {
          "base_uri": "https://localhost:8080/"
        },
        "id": "NnhZRUvOpXpW",
        "outputId": "66ac7cce-009c-4595-dd45-367255f25c11"
      },
      "execution_count": 255,
      "outputs": [
        {
          "output_type": "execute_result",
          "data": {
            "text/plain": [
              "8"
            ]
          },
          "metadata": {},
          "execution_count": 255
        }
      ]
    },
    {
      "cell_type": "code",
      "source": [
        "trial.diagonalSum(mat = [[5]])"
      ],
      "metadata": {
        "colab": {
          "base_uri": "https://localhost:8080/"
        },
        "id": "n1JhvZ7pqo7L",
        "outputId": "d43d33d9-1707-4c97-c343-1ac6d5257f99"
      },
      "execution_count": 256,
      "outputs": [
        {
          "output_type": "execute_result",
          "data": {
            "text/plain": [
              "5"
            ]
          },
          "metadata": {},
          "execution_count": 256
        }
      ]
    },
    {
      "cell_type": "code",
      "source": [
        "trial.diagonalSum([[4,6,7],[2,9,4],[5,5,5]]) "
      ],
      "metadata": {
        "colab": {
          "base_uri": "https://localhost:8080/"
        },
        "id": "UjYWtsmSugH3",
        "outputId": "7ce73d46-e42f-4931-9044-ec97e93f6fb2"
      },
      "execution_count": 259,
      "outputs": [
        {
          "output_type": "execute_result",
          "data": {
            "text/plain": [
              "30"
            ]
          },
          "metadata": {},
          "execution_count": 259
        }
      ]
    },
    {
      "cell_type": "code",
      "source": [
        "trial.diagonalSum(mat =[[7,9,8,6,3],[3,9,4,5,2],[8,1,10,4,10],[9,5,10,9,6],[7,2,4,10,8]])\n"
      ],
      "metadata": {
        "colab": {
          "base_uri": "https://localhost:8080/"
        },
        "id": "-I4P6tfzwygU",
        "outputId": "24588358-5cf0-48a3-89f5-6394a6c9e440"
      },
      "execution_count": 260,
      "outputs": [
        {
          "output_type": "execute_result",
          "data": {
            "text/plain": [
              "63"
            ]
          },
          "metadata": {},
          "execution_count": 260
        }
      ]
    }
  ]
}