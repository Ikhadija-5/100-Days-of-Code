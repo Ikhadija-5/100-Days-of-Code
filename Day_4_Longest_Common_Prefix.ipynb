{
  "nbformat": 4,
  "nbformat_minor": 0,
  "metadata": {
    "colab": {
      "provenance": [],
      "authorship_tag": "ABX9TyOZ8bY83CYl9HU0k1ziPlfN",
      "include_colab_link": true
    },
    "kernelspec": {
      "name": "python3",
      "display_name": "Python 3"
    },
    "language_info": {
      "name": "python"
    }
  },
  "cells": [
    {
      "cell_type": "markdown",
      "metadata": {
        "id": "view-in-github",
        "colab_type": "text"
      },
      "source": [
        "<a href=\"https://colab.research.google.com/github/Ikhadija-5/100-Days-of-Code/blob/main/Day_4_Longest_Common_Prefix.ipynb\" target=\"_parent\"><img src=\"https://colab.research.google.com/assets/colab-badge.svg\" alt=\"Open In Colab\"/></a>"
      ]
    },
    {
      "cell_type": "markdown",
      "source": [
        "## Longest common prefix "
      ],
      "metadata": {
        "id": "hGDDzpL7fYri"
      }
    },
    {
      "cell_type": "markdown",
      "source": [
        "Write a function to find the longest common prefix string amongst an array of strings.\n",
        "\n",
        "If there is no common prefix, return an empty string \"\"."
      ],
      "metadata": {
        "id": "vvYCmeXbfEkE"
      }
    },
    {
      "cell_type": "markdown",
      "source": [
        "Example 1:\n",
        "\n",
        "Input: strs = [\"flower\",\"flow\",\"flight\"]\n",
        "\n",
        "Output: \"fl\"\n"
      ],
      "metadata": {
        "id": "dPlK_YKAfg62"
      }
    },
    {
      "cell_type": "code",
      "execution_count": 2,
      "metadata": {
        "id": "IUWqEwbGeh7D"
      },
      "outputs": [],
      "source": [
        "class Solution(object):\n",
        "  def longestCommonPrefix(self,strs):\n",
        "\n",
        "      # Find all possible substrings\n",
        "      substrings = []\n",
        "      for i in range(len(strs[0])):\n",
        "          for j in range(i+1, len(strs[0])+1):\n",
        "              substrings.append(strs[0][i:j])\n",
        "\n",
        "      # Check each substring for presence in all strings\n",
        "      longest_prefix = \"\"\n",
        "      for sub in substrings:\n",
        "          if all(sub in s for s in strs):\n",
        "              if len(sub) > len(longest_prefix):\n",
        "                  longest_prefix = sub\n",
        "\n",
        "      return longest_prefix\n",
        "\n",
        "\n",
        "\n"
      ]
    },
    {
      "cell_type": "code",
      "source": [
        "test = Solution()"
      ],
      "metadata": {
        "id": "pve6Tanpg0Kx"
      },
      "execution_count": 3,
      "outputs": []
    },
    {
      "cell_type": "code",
      "source": [
        "test.longestCommonPrefix([\"flow\", \"flower\", \"flight\"])"
      ],
      "metadata": {
        "colab": {
          "base_uri": "https://localhost:8080/",
          "height": 35
        },
        "id": "AeHbzApxg2-e",
        "outputId": "96cdd1f9-036b-40d5-f0b8-8995d068adba"
      },
      "execution_count": 4,
      "outputs": [
        {
          "output_type": "execute_result",
          "data": {
            "text/plain": [
              "'fl'"
            ],
            "application/vnd.google.colaboratory.intrinsic+json": {
              "type": "string"
            }
          },
          "metadata": {},
          "execution_count": 4
        }
      ]
    },
    {
      "cell_type": "code",
      "source": [
        "test.longestCommonPrefix([\"hello\", \"heaven\", \"health\"])"
      ],
      "metadata": {
        "colab": {
          "base_uri": "https://localhost:8080/",
          "height": 35
        },
        "id": "i5KacRaQupeU",
        "outputId": "b87c68dd-0f68-43b5-ba34-61b53255eee8"
      },
      "execution_count": 5,
      "outputs": [
        {
          "output_type": "execute_result",
          "data": {
            "text/plain": [
              "'he'"
            ],
            "application/vnd.google.colaboratory.intrinsic+json": {
              "type": "string"
            }
          },
          "metadata": {},
          "execution_count": 5
        }
      ]
    },
    {
      "cell_type": "code",
      "source": [
        "test.longestCommonPrefix([\"dog\",\"racecar\",\"car\"])"
      ],
      "metadata": {
        "colab": {
          "base_uri": "https://localhost:8080/",
          "height": 35
        },
        "id": "4mtbgu5PwOPi",
        "outputId": "0724a90f-dc48-4382-da5a-a1e41fc31460"
      },
      "execution_count": 6,
      "outputs": [
        {
          "output_type": "execute_result",
          "data": {
            "text/plain": [
              "''"
            ],
            "application/vnd.google.colaboratory.intrinsic+json": {
              "type": "string"
            }
          },
          "metadata": {},
          "execution_count": 6
        }
      ]
    }
  ]
}