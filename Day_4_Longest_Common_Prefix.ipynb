{
  "nbformat": 4,
  "nbformat_minor": 0,
  "metadata": {
    "colab": {
      "provenance": [],
      "authorship_tag": "ABX9TyPgfgqfF1dMWqtssywHpROj",
      "include_colab_link": true
    },
    "kernelspec": {
      "name": "python3",
      "display_name": "Python 3"
    },
    "language_info": {
      "name": "python"
    }
  },
  "cells": [
    {
      "cell_type": "markdown",
      "metadata": {
        "id": "view-in-github",
        "colab_type": "text"
      },
      "source": [
        "<a href=\"https://colab.research.google.com/github/Ikhadija-5/100-Days-of-Code/blob/main/Day_4_Longest_Common_Prefix.ipynb\" target=\"_parent\"><img src=\"https://colab.research.google.com/assets/colab-badge.svg\" alt=\"Open In Colab\"/></a>"
      ]
    },
    {
      "cell_type": "markdown",
      "source": [
        "## Longest common prefix "
      ],
      "metadata": {
        "id": "hGDDzpL7fYri"
      }
    },
    {
      "cell_type": "markdown",
      "source": [
        "Write a function to find the longest common prefix string amongst an array of strings.\n",
        "\n",
        "If there is no common prefix, return an empty string \"\"."
      ],
      "metadata": {
        "id": "vvYCmeXbfEkE"
      }
    },
    {
      "cell_type": "markdown",
      "source": [
        "Example 1:\n",
        "\n",
        "Input: strs = [\"flower\",\"flow\",\"flight\"]\n",
        "\n",
        "Output: \"fl\"\n"
      ],
      "metadata": {
        "id": "dPlK_YKAfg62"
      }
    },
    {
      "cell_type": "code",
      "execution_count": 13,
      "metadata": {
        "id": "IUWqEwbGeh7D"
      },
      "outputs": [],
      "source": [
        "class Solution(object):\n",
        "    def longestCommonPrefix(self, strs):\n",
        "        # Find all possible substrings\n",
        "        substrings = []\n",
        "        for i in range(len(strs[0])):\n",
        "            for j in range(i+1, len(strs[0])+1):\n",
        "                substrings.append(strs[0][i:j])\n",
        "\n",
        "        # Check each substring for presence in all strings\n",
        "        longest_prefix = \"\"\n",
        "        for sub in substrings:\n",
        "            if all(s.startswith(sub) for s in strs):\n",
        "                if len(sub) > len(longest_prefix):\n",
        "                    longest_prefix = sub\n",
        "\n",
        "        return longest_prefix\n",
        "\n",
        "\n",
        "\n"
      ]
    },
    {
      "cell_type": "code",
      "source": [
        "test = Solution()"
      ],
      "metadata": {
        "id": "pve6Tanpg0Kx"
      },
      "execution_count": 14,
      "outputs": []
    },
    {
      "cell_type": "code",
      "source": [
        "test.longestCommonPrefix([\"flow\", \"flower\", \"flight\"])"
      ],
      "metadata": {
        "colab": {
          "base_uri": "https://localhost:8080/",
          "height": 35
        },
        "id": "AeHbzApxg2-e",
        "outputId": "2a14e1c0-adb8-4beb-d5f5-3f6df1777b35"
      },
      "execution_count": 15,
      "outputs": [
        {
          "output_type": "execute_result",
          "data": {
            "text/plain": [
              "'fl'"
            ],
            "application/vnd.google.colaboratory.intrinsic+json": {
              "type": "string"
            }
          },
          "metadata": {},
          "execution_count": 15
        }
      ]
    },
    {
      "cell_type": "code",
      "source": [
        "test.longestCommonPrefix([\"hello\", \"heaven\", \"health\"])"
      ],
      "metadata": {
        "colab": {
          "base_uri": "https://localhost:8080/",
          "height": 35
        },
        "id": "i5KacRaQupeU",
        "outputId": "9e46a952-7dec-434f-e2e6-12e6a8b6ae99"
      },
      "execution_count": 16,
      "outputs": [
        {
          "output_type": "execute_result",
          "data": {
            "text/plain": [
              "'he'"
            ],
            "application/vnd.google.colaboratory.intrinsic+json": {
              "type": "string"
            }
          },
          "metadata": {},
          "execution_count": 16
        }
      ]
    },
    {
      "cell_type": "code",
      "source": [
        "test.longestCommonPrefix([\"dog\",\"racecar\",\"car\"])"
      ],
      "metadata": {
        "colab": {
          "base_uri": "https://localhost:8080/",
          "height": 35
        },
        "id": "4mtbgu5PwOPi",
        "outputId": "6d66946c-dac6-4544-9dec-47de6ba83a26"
      },
      "execution_count": 17,
      "outputs": [
        {
          "output_type": "execute_result",
          "data": {
            "text/plain": [
              "''"
            ],
            "application/vnd.google.colaboratory.intrinsic+json": {
              "type": "string"
            }
          },
          "metadata": {},
          "execution_count": 17
        }
      ]
    },
    {
      "cell_type": "code",
      "source": [
        "test.longestCommonPrefix([\"reflower\",\"flow\",\"flight\"])"
      ],
      "metadata": {
        "colab": {
          "base_uri": "https://localhost:8080/",
          "height": 35
        },
        "id": "OCMLJITyyja7",
        "outputId": "02c4fd13-ad2d-4176-a9c7-ffb937d24270"
      },
      "execution_count": 19,
      "outputs": [
        {
          "output_type": "execute_result",
          "data": {
            "text/plain": [
              "''"
            ],
            "application/vnd.google.colaboratory.intrinsic+json": {
              "type": "string"
            }
          },
          "metadata": {},
          "execution_count": 19
        }
      ]
    },
    {
      "cell_type": "code",
      "source": [],
      "metadata": {
        "id": "IHUu0atqywEi"
      },
      "execution_count": null,
      "outputs": []
    }
  ]
}